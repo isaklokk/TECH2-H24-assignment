{
 "cells": [
  {
   "cell_type": "markdown",
   "metadata": {},
   "source": [
    "# TECH 2 mandatory assignment - Part B\n",
    "\n",
    "Write your solution for Part B in this notebook."
   ]
  },
  {
   "cell_type": "markdown",
   "metadata": {},
   "source": [
    "## Step 1:\n",
    "Importing the data in the CSV file and storing the data in lists\n"
   ]
  },
  {
   "cell_type": "code",
   "execution_count": 2,
   "metadata": {},
   "outputs": [],
   "source": [
    "column1 = []\n",
    "column2 = []\n",
    "column3 = []\n",
    "\n",
    "# Reads data from file and stores it as strings\n",
    "with open('data.csv', 'r') as file:\n",
    "    for line in file:\n",
    "        values = line.strip().split(',')\n",
    "\n",
    "        # Cheks that line contaons 3 values and that none are empty\n",
    "        if len(values) == 3 and all(value.strip() != '' for value in values):\n",
    "            # Strips any extra spaces or characters\n",
    "            column1.append(values[0].strip())\n",
    "            column2.append(values[1].strip())\n",
    "            column3.append(values[2].strip())\n",
    "\n",
    "# Converting strings to floats\n",
    "try:\n",
    "    column1 = [float(value) for value in column1]\n",
    "    column2 = [float(value) for value in column2]\n",
    "    column3 = [float(value) for value in column3]\n",
    "except ValueError as e:\n",
    "    print('Error converting strings to floats:', {e})\n",
    "\n",
    "\n"
   ]
  },
  {
   "cell_type": "markdown",
   "metadata": {},
   "source": [
    "## Step 2:\n",
    "Computing the standard deviation with the three approaches"
   ]
  },
  {
   "cell_type": "code",
   "execution_count": 3,
   "metadata": {},
   "outputs": [
    {
     "name": "stdout",
     "output_type": "stream",
     "text": [
      "The standard deviation with alternative 1: 1.4142135623730951\n",
      "The standard deviation with alternative 2: 1.4142135623730951\n",
      "The standard deviation with alternative 3: 1.4142135623730951\n",
      "All three methods calculate the same standard deviations for num_lst\n"
     ]
    }
   ],
   "source": [
    "from math import sqrt\n",
    "\n",
    "num_lst = [1, 2, 3 , 4, 5]\n",
    "x = num_lst\n",
    "\n",
    "def std_loops(x): \n",
    "    N = 0\n",
    "    for _ in x: # Calculating the length of the list manually\n",
    "        N += 1\n",
    "\n",
    "    total_sum = 0\n",
    "    for i in x: # Calculating the mean of x\n",
    "        total_sum += i\n",
    "    mean_x = total_sum / N # The mean of x\n",
    "\n",
    "    sum_S = 0\n",
    "    for i in x: # Calculating the mean of squares\n",
    "        sum_S += i ** 2\n",
    "        \n",
    "    mean_S = sum_S / N # The mean of squares\n",
    "    variance = mean_S - (mean_x ** 2) # The variance\n",
    "    S_deviation = sqrt(variance) # The standard deviation\n",
    "\n",
    "    return S_deviation\n",
    "\n",
    "print('The standard deviation with alternative 1:', std_loops(x))\n",
    "\n",
    "\n",
    "\n",
    "def std_builtin(x):\n",
    "    N = len(x)\n",
    "\n",
    "    mean_x = sum(x) / N # Calculating the mean of x\n",
    "    \n",
    "    sum_S = sum(i**2 for i in x) \n",
    "    mean_S = sum_S / N # Calculating the mean of squares\n",
    "\n",
    "    variance = mean_S - mean_x ** 2 # Calculating variance\n",
    "    s_deviation = sqrt(variance) # Calculating the standard deviation\n",
    "    return s_deviation\n",
    "\n",
    "print('The standard deviation with alternative 2:', std_builtin(x))\n",
    "\n",
    "\n",
    "import numpy as np\n",
    "\n",
    "std_np = np.std(x) # Calculating the standard deviation\n",
    "print('The standard deviation with alternative 3:', std_np)\n",
    "\n",
    "# Compare all three methods\n",
    "if round(std_loops(x), 5) == round(std_builtin(x), 5) == round(std_np, 5):\n",
    "    print('All three methods calculate the same standard deviations for num_lst')\n",
    "else:\n",
    "    print('There is a difference in the standard deviation calculations')\n"
   ]
  },
  {
   "cell_type": "markdown",
   "metadata": {},
   "source": [
    "## Step 3:\n",
    "Measuring the execution time using %timeit"
   ]
  },
  {
   "cell_type": "markdown",
   "metadata": {},
   "source": [
    "Timing for column 1 (100 numbers):"
   ]
  },
  {
   "cell_type": "code",
   "execution_count": 4,
   "metadata": {},
   "outputs": [
    {
     "name": "stdout",
     "output_type": "stream",
     "text": [
      "45.9 μs ± 5.47 μs per loop (mean ± std. dev. of 7 runs, 10,000 loops each)\n",
      "49 μs ± 7.88 μs per loop (mean ± std. dev. of 7 runs, 10,000 loops each)\n",
      "82.4 μs ± 3.76 μs per loop (mean ± std. dev. of 7 runs, 10,000 loops each)\n"
     ]
    }
   ],
   "source": [
    "%timeit std_loops(column1)\n",
    "%timeit std_builtin(column1)\n",
    "%timeit np.std(column1)\n"
   ]
  },
  {
   "cell_type": "markdown",
   "metadata": {},
   "source": [
    "Timing for column 2 (1000 numbers):"
   ]
  },
  {
   "cell_type": "code",
   "execution_count": 5,
   "metadata": {},
   "outputs": [
    {
     "name": "stdout",
     "output_type": "stream",
     "text": [
      "46.4 μs ± 4.86 μs per loop (mean ± std. dev. of 7 runs, 10,000 loops each)\n",
      "50.6 μs ± 8.2 μs per loop (mean ± std. dev. of 7 runs, 10,000 loops each)\n",
      "87.3 μs ± 7.79 μs per loop (mean ± std. dev. of 7 runs, 10,000 loops each)\n"
     ]
    }
   ],
   "source": [
    "%timeit std_loops(column2)\n",
    "%timeit std_builtin(column2)\n",
    "%timeit np.std(column2)"
   ]
  },
  {
   "cell_type": "markdown",
   "metadata": {},
   "source": [
    "Timing for column 3 (10 000 numbers):"
   ]
  },
  {
   "cell_type": "code",
   "execution_count": 6,
   "metadata": {},
   "outputs": [
    {
     "name": "stdout",
     "output_type": "stream",
     "text": [
      "42.1 μs ± 2.71 μs per loop (mean ± std. dev. of 7 runs, 10,000 loops each)\n",
      "49.5 μs ± 7.73 μs per loop (mean ± std. dev. of 7 runs, 10,000 loops each)\n",
      "79.5 μs ± 6.16 μs per loop (mean ± std. dev. of 7 runs, 10,000 loops each)\n"
     ]
    }
   ],
   "source": [
    "%timeit std_loops(column3)\n",
    "%timeit std_builtin(column3)\n",
    "%timeit np.std(column3)"
   ]
  },
  {
   "cell_type": "markdown",
   "metadata": {},
   "source": [
    "## Step 4:\n",
    "Summary"
   ]
  },
  {
   "cell_type": "markdown",
   "metadata": {},
   "source": [
    "I got a suprising result. In these tests std_loops is consistently fastest across all three columns. It performs slightly better than std_builtin and significantly better than np.std, particularly as the dataset size increases. np.std is consistently slowest across all datasets, which is unsual because NymPy is generally faster for large datasets. This is likely due to the different processes involved in setting up NumPy's optimizations, which does not pay off for datasets of this size. But thus, manual loops offer the best performance in this specific case, NumPy may still be the preferred choice for larger datasets or more complex operations."
   ]
  }
 ],
 "metadata": {
  "kernelspec": {
   "display_name": "base",
   "language": "python",
   "name": "python3"
  },
  "language_info": {
   "codemirror_mode": {
    "name": "ipython",
    "version": 3
   },
   "file_extension": ".py",
   "mimetype": "text/x-python",
   "name": "python",
   "nbconvert_exporter": "python",
   "pygments_lexer": "ipython3",
   "version": "3.12.4"
  }
 },
 "nbformat": 4,
 "nbformat_minor": 2
}
